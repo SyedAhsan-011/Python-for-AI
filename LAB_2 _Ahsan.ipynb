{
 "cells": [
  {
   "cell_type": "markdown",
   "id": "e8e93b62",
   "metadata": {},
   "source": [
    "## LAB NO. 2"
   ]
  },
  {
   "cell_type": "markdown",
   "id": "e3f94a70",
   "metadata": {},
   "source": [
    "### Solution # 1"
   ]
  },
  {
   "cell_type": "code",
   "execution_count": 1,
   "id": "a4f8e5f9",
   "metadata": {},
   "outputs": [
    {
     "name": "stdout",
     "output_type": "stream",
     "text": [
      "Input: a=3, b=1, c=4   ; Output: 8\n",
      "Input: a=21, b=1, c=2  ; Output: 24\n",
      "Input: a=13, b=1, c=19 ; Output: 1\n"
     ]
    }
   ],
   "source": [
    "def fix_teen(a, b, c):\n",
    "    def fix_teen_value(n):\n",
    "        if n in range(13, 20) and n != 15 and n != 16:\n",
    "            return 0\n",
    "        return n\n",
    "\n",
    "    a = fix_teen_value(a)\n",
    "    b = fix_teen_value(b)\n",
    "    c = fix_teen_value(c)\n",
    "\n",
    "    return a + b + c\n",
    "\n",
    "# Sample runs\n",
    "print(\"Input: a=3, b=1, c=4   ; Output:\", fix_teen(3, 1, 4))\n",
    "print(\"Input: a=21, b=1, c=2  ; Output:\", fix_teen(21, 1, 2))\n",
    "print(\"Input: a=13, b=1, c=19 ; Output:\", fix_teen(13, 1, 19))\n"
   ]
  },
  {
   "cell_type": "markdown",
   "id": "a9d07a1e",
   "metadata": {},
   "source": [
    "### Solution # 2"
   ]
  },
  {
   "cell_type": "code",
   "execution_count": 2,
   "id": "fe32924d",
   "metadata": {},
   "outputs": [
    {
     "name": "stdout",
     "output_type": "stream",
     "text": [
      "String: ABC123@gmail.com\n",
      "Output: lowercase = 8, uppercase = 3, digits = 3, special symbols = 2\n"
     ]
    }
   ],
   "source": [
    "def count_characters(input_string):\n",
    "    lowercase_count = 0\n",
    "    uppercase_count = 0\n",
    "    digit_count = 0\n",
    "    special_symbol_count = 0\n",
    "\n",
    "    for char in input_string:\n",
    "        if char.islower():\n",
    "            lowercase_count += 1\n",
    "        elif char.isupper():\n",
    "            uppercase_count += 1\n",
    "        elif char.isdigit():\n",
    "            digit_count += 1\n",
    "        else:\n",
    "            special_symbol_count += 1\n",
    "\n",
    "    return lowercase_count, uppercase_count, digit_count, special_symbol_count\n",
    "\n",
    "# Sample run\n",
    "input_string = \"ABC123@gmail.com\"\n",
    "lowercase, uppercase, digits, special_symbols = count_characters(input_string)\n",
    "\n",
    "print(f\"String: {input_string}\")\n",
    "print(f\"Output: lowercase = {lowercase}, uppercase = {uppercase}, digits = {digits}, special symbols = {special_symbols}\")\n"
   ]
  },
  {
   "cell_type": "markdown",
   "id": "97380452",
   "metadata": {},
   "source": [
    "### Solution # 3"
   ]
  },
  {
   "cell_type": "code",
   "execution_count": 3,
   "id": "4ca5ba59",
   "metadata": {},
   "outputs": [
    {
     "name": "stdout",
     "output_type": "stream",
     "text": [
      "String: Q-301 is at 4 th floor of quaid block.\n",
      "Output: Sum = 8 and Average is 2.0\n"
     ]
    }
   ],
   "source": [
    "def sum_and_average_of_digits(input_string):\n",
    "    digits = [int(char) for char in input_string if char.isdigit()]\n",
    "    \n",
    "    if not digits:\n",
    "        return 0, 0\n",
    "\n",
    "    total_sum = sum(digits)\n",
    "    average = total_sum / len(digits)\n",
    "\n",
    "    return total_sum, average\n",
    "\n",
    "# Sample run\n",
    "input_string = \"Q-301 is at 4 th floor of quaid block.\"\n",
    "total_sum, average = sum_and_average_of_digits(input_string)\n",
    "\n",
    "print(f\"String: {input_string}\")\n",
    "print(f\"Output: Sum = {total_sum} and Average is {average}\")\n"
   ]
  },
  {
   "cell_type": "markdown",
   "id": "5ce12eef",
   "metadata": {},
   "source": [
    "### Solution # 4"
   ]
  },
  {
   "cell_type": "code",
   "execution_count": 4,
   "id": "a97a0bf9",
   "metadata": {},
   "outputs": [
    {
     "name": "stdout",
     "output_type": "stream",
     "text": [
      "Input: min = 1, max = 40, difference = 39\n"
     ]
    }
   ],
   "source": [
    "def find_difference(arr):\n",
    "    min_value = min(arr)\n",
    "    max_value = max(arr)\n",
    "    difference = max_value - min_value\n",
    "    return min_value, max_value, difference\n",
    "\n",
    "# Sample run\n",
    "input_array = [1, 2, 3, 4, 5, 8, 9, 10, 15, 40, 3]\n",
    "min_val, max_val, diff = find_difference(input_array)\n",
    "\n",
    "print(f\"Input: min = {min_val}, max = {max_val}, difference = {diff}\")\n"
   ]
  },
  {
   "cell_type": "markdown",
   "id": "3daa84aa",
   "metadata": {},
   "source": [
    "### Solution # 5"
   ]
  },
  {
   "cell_type": "code",
   "execution_count": 5,
   "id": "e7a3f1a4",
   "metadata": {},
   "outputs": [
    {
     "name": "stdout",
     "output_type": "stream",
     "text": [
      "String: Antandart\n",
      "Output: count = 1\n"
     ]
    }
   ],
   "source": [
    "def count_ant_occurrences(input_string):\n",
    "    input_string = input_string.lower()  # Convert to lowercase for case-insensitive search\n",
    "    count = 0\n",
    "    index = -1\n",
    "    \n",
    "    while True:\n",
    "        index = input_string.find('ant', index + 1)\n",
    "        if index == -1:\n",
    "            break\n",
    "        count += 1\n",
    "\n",
    "    return count\n",
    "\n",
    "# Sample run\n",
    "input_string = \"Antandart\"\n",
    "count = count_ant_occurrences(input_string)\n",
    "\n",
    "print(f\"String: {input_string}\")\n",
    "print(f\"Output: count = {count}\")\n"
   ]
  },
  {
   "cell_type": "code",
   "execution_count": null,
   "id": "32eedfa5",
   "metadata": {},
   "outputs": [],
   "source": []
  }
 ],
 "metadata": {
  "kernelspec": {
   "display_name": "Python 3 (ipykernel)",
   "language": "python",
   "name": "python3"
  },
  "language_info": {
   "codemirror_mode": {
    "name": "ipython",
    "version": 3
   },
   "file_extension": ".py",
   "mimetype": "text/x-python",
   "name": "python",
   "nbconvert_exporter": "python",
   "pygments_lexer": "ipython3",
   "version": "3.11.5"
  }
 },
 "nbformat": 4,
 "nbformat_minor": 5
}
