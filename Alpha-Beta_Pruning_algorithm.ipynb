{
 "cells": [
  {
   "cell_type": "markdown",
   "id": "898b187c",
   "metadata": {},
   "source": [
    "## LAB No. 6"
   ]
  },
  {
   "cell_type": "markdown",
   "id": "928772c2",
   "metadata": {},
   "source": [
    "### Task 1: \n",
    "### Implement the Alpha Beta Pruning Algorithm with 16 leaf values & current depth should be 2 & starting node should be 2 with the range of minimum & maximum should -500 to +500"
   ]
  },
  {
   "cell_type": "code",
   "execution_count": 1,
   "id": "bd3bb592",
   "metadata": {},
   "outputs": [
    {
     "name": "stdout",
     "output_type": "stream",
     "text": [
      "The result of the Alpha-Beta Pruning Algorithm is: 3\n"
     ]
    }
   ],
   "source": [
    "import math\n",
    "\n",
    "# Define the tree structure with leaf values\n",
    "tree = {\n",
    "    2: [1, 8],\n",
    "    1: [5, 3],\n",
    "    3: [6, 7],\n",
    "    8: [2, 4]\n",
    "}\n",
    "\n",
    "# Function to implement the Alpha-Beta Pruning Algorithm\n",
    "def alpha_beta_pruning(node, depth, alpha, beta, maximizing_player):\n",
    "    if depth == 0 or node not in tree:\n",
    "        return node  # Return the leaf value if it's a leaf node or depth is 0\n",
    "\n",
    "    if maximizing_player:\n",
    "        max_eval = -math.inf\n",
    "        for child in tree[node]:\n",
    "            eval_value = alpha_beta_pruning(child, depth - 1, alpha, beta, False)\n",
    "            max_eval = max(max_eval, eval_value)\n",
    "            alpha = max(alpha, eval_value)\n",
    "            if beta <= alpha:\n",
    "                break  # Beta cut-off\n",
    "        return max_eval\n",
    "    else:\n",
    "        min_eval = math.inf\n",
    "        for child in tree[node]:\n",
    "            eval_value = alpha_beta_pruning(child, depth - 1, alpha, beta, True)\n",
    "            min_eval = min(min_eval, eval_value)\n",
    "            beta = min(beta, eval_value)\n",
    "            if beta <= alpha:\n",
    "                break  # Alpha cut-off\n",
    "        return min_eval\n",
    "\n",
    "# Set the starting node, depth, and initial alpha-beta values\n",
    "starting_node = 2\n",
    "current_depth = 2\n",
    "alpha = -500\n",
    "beta = 500\n",
    "\n",
    "# Call the alpha_beta_pruning function with the specified parameters\n",
    "result = alpha_beta_pruning(starting_node, current_depth, alpha, beta, True)\n",
    "\n",
    "# Print the result\n",
    "print(\"The result of the Alpha-Beta Pruning Algorithm is:\", result)\n"
   ]
  },
  {
   "cell_type": "markdown",
   "id": "8cc1e1a2",
   "metadata": {},
   "source": [
    "This code uses the Alpha-Beta Pruning algorithm to optimize the search process by pruning branches that cannot influence the final decision. The alpha and beta values are updated during the search, and the algorithm cuts off branches where the bounds of alpha and beta do not overlap."
   ]
  },
  {
   "cell_type": "code",
   "execution_count": null,
   "id": "208f470c",
   "metadata": {},
   "outputs": [],
   "source": []
  }
 ],
 "metadata": {
  "kernelspec": {
   "display_name": "Python 3 (ipykernel)",
   "language": "python",
   "name": "python3"
  },
  "language_info": {
   "codemirror_mode": {
    "name": "ipython",
    "version": 3
   },
   "file_extension": ".py",
   "mimetype": "text/x-python",
   "name": "python",
   "nbconvert_exporter": "python",
   "pygments_lexer": "ipython3",
   "version": "3.11.5"
  }
 },
 "nbformat": 4,
 "nbformat_minor": 5
}
