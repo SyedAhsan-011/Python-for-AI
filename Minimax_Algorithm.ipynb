{
 "cells": [
  {
   "cell_type": "markdown",
   "id": "8dcf0ba9",
   "metadata": {},
   "source": [
    "## LAB No. 6"
   ]
  },
  {
   "cell_type": "markdown",
   "id": "9fe03190",
   "metadata": {},
   "source": [
    "### Task 1: \n",
    "### Implement the Minimax Algorithm with 8 leaf values & current depth should be 2 & starting node should be 2"
   ]
  },
  {
   "cell_type": "code",
   "execution_count": 2,
   "id": "49b858f3",
   "metadata": {},
   "outputs": [
    {
     "name": "stdout",
     "output_type": "stream",
     "text": [
      "The result of the Minimax Algorithm is: 3\n"
     ]
    }
   ],
   "source": [
    "import math\n",
    "\n",
    "# Define the tree structure with leaf values\n",
    "tree = {\n",
    "    2: [1, 8],\n",
    "    1: [5, 3],\n",
    "    3: [6, 7],\n",
    "    8: [2, 4]\n",
    "}\n",
    "\n",
    "# Function to implement the Minimax Algorithm\n",
    "def minimax(node, depth, maximizing_player):\n",
    "    if depth == 0 or node not in tree:\n",
    "        return node  # Return the leaf value if it's a leaf node or depth is 0\n",
    "\n",
    "    if maximizing_player:\n",
    "        max_eval = -math.inf\n",
    "        for child in tree[node]:\n",
    "            eval_value = minimax(child, depth - 1, False)\n",
    "            max_eval = max(max_eval, eval_value)\n",
    "        return max_eval\n",
    "    else:\n",
    "        min_eval = math.inf\n",
    "        for child in tree[node]:\n",
    "            eval_value = minimax(child, depth - 1, True)\n",
    "            min_eval = min(min_eval, eval_value)\n",
    "        return min_eval\n",
    "\n",
    "# Set the starting node and depth\n",
    "starting_node = 2\n",
    "current_depth = 2\n",
    "\n",
    "# Call the minimax function with the specified parameters\n",
    "result = minimax(starting_node, current_depth, True)\n",
    "\n",
    "# Print the result\n",
    "print(\"The result of the Minimax Algorithm is:\", result)\n"
   ]
  },
  {
   "cell_type": "markdown",
   "id": "9d03d790",
   "metadata": {},
   "source": [
    "In this example, the tree dictionary represents a simple tree structure, and the minimax function recursively applies the Minimax Algorithm. The maximizing_player parameter is used to determine whether the current node is a maximizing or minimizing player."
   ]
  },
  {
   "cell_type": "code",
   "execution_count": null,
   "id": "7dd2f085",
   "metadata": {
    "scrolled": true
   },
   "outputs": [],
   "source": []
  }
 ],
 "metadata": {
  "kernelspec": {
   "display_name": "Python 3 (ipykernel)",
   "language": "python",
   "name": "python3"
  },
  "language_info": {
   "codemirror_mode": {
    "name": "ipython",
    "version": 3
   },
   "file_extension": ".py",
   "mimetype": "text/x-python",
   "name": "python",
   "nbconvert_exporter": "python",
   "pygments_lexer": "ipython3",
   "version": "3.11.5"
  }
 },
 "nbformat": 4,
 "nbformat_minor": 5
}
